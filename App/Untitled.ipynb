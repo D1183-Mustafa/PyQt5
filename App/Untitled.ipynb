{
 "cells": [
  {
   "cell_type": "code",
   "execution_count": 6,
   "id": "10215aaf",
   "metadata": {},
   "outputs": [
    {
     "ename": "SystemExit",
     "evalue": "0",
     "output_type": "error",
     "traceback": [
      "An exception has occurred, use %tb to see the full traceback.\n",
      "\u001b[1;31mSystemExit\u001b[0m\u001b[1;31m:\u001b[0m 0\n"
     ]
    }
   ],
   "source": [
    "import sys\n",
    "\n",
    "from PyQt5 import QtWidgets ,QtGui\n",
    "\n",
    "def pencere():\n",
    "    \n",
    "    uygulama = QtWidgets.QApplication(sys.argv)\n",
    "    \n",
    "    pencere = QtWidgets.QWidget()\n",
    "    \n",
    "    pencere.setWindowTitle(\"Mustafa Altaş\")\n",
    "    \n",
    "    etiket1 = QtWidgets.QLabel(pencere)\n",
    "    etiket1.setText(\"Mustafa Altaş\")\n",
    "    etiket1.move(500,600)\n",
    "    \n",
    "    etiket2 = QtWidgets.QLabel(pencere)\n",
    "    etiket2.setPixmap(QtGui.QPixmap(\"çicek.png\"))\n",
    "    etiket2.move(50,20)\n",
    "    \n",
    "    \n",
    "    pencere.setGeometry(100,100,1000,750)\n",
    "    \n",
    "    pencere.show()\n",
    "    \n",
    "    sys.exit(uygulama.exec_())\n",
    "    \n",
    "pencere()\n",
    "    "
   ]
  },
  {
   "cell_type": "code",
   "execution_count": null,
   "id": "23d1e33a",
   "metadata": {},
   "outputs": [],
   "source": []
  }
 ],
 "metadata": {
  "kernelspec": {
   "display_name": "Python 3",
   "language": "python",
   "name": "python3"
  },
  "language_info": {
   "codemirror_mode": {
    "name": "ipython",
    "version": 3
   },
   "file_extension": ".py",
   "mimetype": "text/x-python",
   "name": "python",
   "nbconvert_exporter": "python",
   "pygments_lexer": "ipython3",
   "version": "3.8.8"
  }
 },
 "nbformat": 4,
 "nbformat_minor": 5
}
